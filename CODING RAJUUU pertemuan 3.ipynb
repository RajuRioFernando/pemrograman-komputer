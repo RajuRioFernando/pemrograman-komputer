{
 "cells": [
  {
   "cell_type": "markdown",
   "metadata": {},
   "source": [
    "# PERTEMUAN 3"
   ]
  },
  {
   "cell_type": "markdown",
   "metadata": {},
   "source": [
    "# INPUT"
   ]
  },
  {
   "cell_type": "code",
   "execution_count": 5,
   "metadata": {},
   "outputs": [
    {
     "name": "stdout",
     "output_type": "stream",
     "text": [
      "Halo, raju\n",
      "umur anda: 19\n",
      "IPK anda: 3.7\n"
     ]
    }
   ],
   "source": [
    "# Contoh Input String\n",
    "nama= input(\"Masukkan nama anda\")\n",
    "print(\"Halo,\",nama)\n",
    "\n",
    "# Contoh Input Interger\n",
    "umur=int(input(\"Masukkan umur bulat\"))\n",
    "print(\"umur anda:\",umur)\n",
    "\n",
    "# Contoh Input Float\n",
    "ipk=float(input(\"masukkan ipk:\"))\n",
    "print(\"IPK anda:\",ipk)"
   ]
  },
  {
   "cell_type": "markdown",
   "metadata": {},
   "source": [
    "# CONTOH INPUT YANG DIPISAHKAN SPASI"
   ]
  },
  {
   "cell_type": "code",
   "execution_count": 11,
   "metadata": {},
   "outputs": [
    {
     "name": "stdout",
     "output_type": "stream",
     "text": [
      "bilangan pertama: 2.0\n",
      "bilangan kedua: 3.0\n"
     ]
    }
   ],
   "source": [
    "bil=input(\"masukkan dua bilangan bulat dipisahkan oleh spasi:\")\n",
    "# Membagi Variabel Bil menjadi variabel bil1 dan bil2\n",
    "bil1,bil2=map(float, bil.split())\n",
    "print(\"bilangan pertama:\",bil1)\n",
    "print(\"bilangan kedua:\",bil2)"
   ]
  },
  {
   "cell_type": "markdown",
   "metadata": {},
   "source": [
    "# MACAM MACAM JENIS UOTPUT PADA PYTHON"
   ]
  },
  {
   "cell_type": "code",
   "execution_count": 37,
   "metadata": {},
   "outputs": [
    {
     "name": "stdout",
     "output_type": "stream",
     "text": [
      "Hallo fajar umur anda 19 IPK anda 3.7\n",
      "Hallo fajar,umur anda: 19 IPK anda: 3.7\n",
      "Hallo fajar, Umur  anda:19, IPK anda:3.7\n",
      "Hallo fajar,umur anda: 19,IPK anda:3.7\n"
     ]
    }
   ],
   "source": [
    "print(\"Hallo\",nama,\"umur anda\",umur,\"IPK anda\",ipk)\n",
    "print(\"Hallo \"+nama+\",umur anda:\",umur,\"IPK anda:\",ipk)\n",
    "print(\"Hallo %s, Umur  anda:%s, IPK anda:%.1f\" % (nama,umur,ipk))\n",
    "print(f\"Hallo {nama},umur anda: {umur},IPK anda:{ipk}\")\n",
    "      "
   ]
  },
  {
   "cell_type": "markdown",
   "metadata": {},
   "source": [
    "# STRUKTUR RUNTUTAN"
   ]
  },
  {
   "cell_type": "code",
   "execution_count": 39,
   "metadata": {},
   "outputs": [
    {
     "name": "stdout",
     "output_type": "stream",
     "text": [
      "pi=3.14\n",
      "jari-jari= 6\n",
      "luas lingrakaran=113.14\n"
     ]
    }
   ],
   "source": [
    "# input\n",
    "pi=22/7\n",
    "r= int(input(\"jari-jari=\"))\n",
    "\n",
    "# proses menghitung luas lingkaran\n",
    "luas=pi*r*r\n",
    "\n",
    "# output luas lingkaran\n",
    "print(\"pi=%.2f\"%pi)\n",
    "print(\"jari-jari=\",r)\n",
    "print(\"luas lingrakaran=%.2f\"%(luas))\n"
   ]
  }
 ],
 "metadata": {
  "kernelspec": {
   "display_name": "Python 3",
   "language": "python",
   "name": "python3"
  },
  "language_info": {
   "codemirror_mode": {
    "name": "ipython",
    "version": 3
   },
   "file_extension": ".py",
   "mimetype": "text/x-python",
   "name": "python",
   "nbconvert_exporter": "python",
   "pygments_lexer": "ipython3",
   "version": "3.12.2"
  }
 },
 "nbformat": 4,
 "nbformat_minor": 2
}
