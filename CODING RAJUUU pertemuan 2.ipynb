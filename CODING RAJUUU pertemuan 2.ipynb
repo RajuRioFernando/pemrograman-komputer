{
 "cells": [
  {
   "cell_type": "markdown",
   "metadata": {},
   "source": [
    "# PERTEMUAN 2"
   ]
  },
  {
   "cell_type": "markdown",
   "metadata": {},
   "source": [
    "# VARIABEL"
   ]
  },
  {
   "cell_type": "markdown",
   "metadata": {},
   "source": [
    "# ARITMATIKA"
   ]
  },
  {
   "cell_type": "code",
   "execution_count": 1,
   "metadata": {},
   "outputs": [
    {
     "ename": "ValueError",
     "evalue": "invalid literal for int() with base 10: ''",
     "output_type": "error",
     "traceback": [
      "\u001b[1;31m---------------------------------------------------------------------------\u001b[0m",
      "\u001b[1;31mValueError\u001b[0m                                Traceback (most recent call last)",
      "Cell \u001b[1;32mIn[1], line 1\u001b[0m\n\u001b[1;32m----> 1\u001b[0m a\u001b[38;5;241m=\u001b[39m\u001b[38;5;28;43mint\u001b[39;49m\u001b[43m(\u001b[49m\u001b[38;5;28;43minput\u001b[39;49m\u001b[43m(\u001b[49m\u001b[38;5;124;43m\"\u001b[39;49m\u001b[38;5;124;43ma adalah\u001b[39;49m\u001b[38;5;124;43m\"\u001b[39;49m\u001b[43m)\u001b[49m\u001b[43m)\u001b[49m\n\u001b[0;32m      2\u001b[0m b\u001b[38;5;241m=\u001b[39m\u001b[38;5;28mint\u001b[39m(\u001b[38;5;28minput\u001b[39m(\u001b[38;5;124m\"\u001b[39m\u001b[38;5;124mb adalah\u001b[39m\u001b[38;5;124m\"\u001b[39m))\n\u001b[0;32m      4\u001b[0m penjumlahan\u001b[38;5;241m=\u001b[39ma\u001b[38;5;241m+\u001b[39mb\n",
      "\u001b[1;31mValueError\u001b[0m: invalid literal for int() with base 10: ''"
     ]
    }
   ],
   "source": [
    "a=int(input(\"a adalah\"))\n",
    "b=int(input(\"b adalah\"))\n",
    "\n",
    "penjumlahan=a+b\n",
    "pengurangan=a-b\n",
    "perkalian=a*b\n",
    "pembagian=a/b\n",
    "modulus=a%b\n",
    "\n",
    "print(\"a+b=\",penjumlahan)\n",
    "print(\"a-b=\",pengurangan)\n",
    "print(\"a*b=\",perkalian)\n",
    "print(\"a/b=\",pembagian)\n",
    "print(\"a%b=\",modulus)"
   ]
  },
  {
   "cell_type": "markdown",
   "metadata": {},
   "source": [
    "# OPERATOR RELASI"
   ]
  },
  {
   "cell_type": "markdown",
   "metadata": {},
   "source": []
  },
  {
   "cell_type": "code",
   "execution_count": 15,
   "metadata": {},
   "outputs": [
    {
     "name": "stdout",
     "output_type": "stream",
     "text": [
      "False\n",
      "True\n",
      "False\n",
      "True\n",
      "False\n",
      "True\n"
     ]
    }
   ],
   "source": [
    "A=10\n",
    "B=15\n",
    "\n",
    "print(A==B)\n",
    "print(A!=B)\n",
    "print(A>B)\n",
    "print(A<B)\n",
    "print(A>=B)\n",
    "print(A<=B)"
   ]
  },
  {
   "cell_type": "markdown",
   "metadata": {},
   "source": [
    "# OPERATOR LOGIKA"
   ]
  },
  {
   "cell_type": "code",
   "execution_count": 18,
   "metadata": {},
   "outputs": [
    {
     "name": "stdout",
     "output_type": "stream",
     "text": [
      "raju <class 'str'>\n",
      "19 <class 'str'>\n",
      "3.7 <class 'float'>\n",
      "[80, 90, 100] <class 'list'>\n",
      "('voli', 'gaming') <class 'tuple'>\n",
      "{'reborn': 'hitam', 'no_plat': 2} <class 'dict'>\n"
     ]
    }
   ],
   "source": [
    "nama=\"raju\"\n",
    "umur=\"19\"\n",
    "ipk=3.7\n",
    "nilai=[80,90,100]\n",
    "hobi=(\"voli\",\"gaming\")\n",
    "mobil={'reborn':'hitam','no_plat':2}\n",
    "\n",
    "print(nama,type(nama))\n",
    "print(umur,type(umur))\n",
    "print(ipk,type(ipk))\n",
    "print(nilai,type(nilai))\n",
    "print(hobi,type(hobi))\n",
    "print(mobil,type(mobil))"
   ]
  },
  {
   "cell_type": "markdown",
   "metadata": {},
   "source": [
    "# "
   ]
  },
  {
   "cell_type": "code",
   "execution_count": 20,
   "metadata": {},
   "outputs": [
    {
     "name": "stdout",
     "output_type": "stream",
     "text": [
      "True\n",
      "True\n",
      "True\n"
     ]
    }
   ],
   "source": [
    "a=2\n",
    "b=1\n",
    "c=5\n",
    "\n",
    "print((a>b)and(c>b))\n",
    "print((a>b)or(c>b))\n",
    "print(not(b>b))\n",
    "      "
   ]
  }
 ],
 "metadata": {
  "kernelspec": {
   "display_name": "Python 3",
   "language": "python",
   "name": "python3"
  },
  "language_info": {
   "codemirror_mode": {
    "name": "ipython",
    "version": 3
   },
   "file_extension": ".py",
   "mimetype": "text/x-python",
   "name": "python",
   "nbconvert_exporter": "python",
   "pygments_lexer": "ipython3",
   "version": "3.12.2"
  }
 },
 "nbformat": 4,
 "nbformat_minor": 2
}
